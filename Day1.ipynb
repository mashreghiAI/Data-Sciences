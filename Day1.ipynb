{
 "cells": [
  {
   "cell_type": "code",
   "execution_count": 22,
   "id": "2d4a4d48-ed6f-480f-aed7-e0d7e14eb9e4",
   "metadata": {},
   "outputs": [
    {
     "data": {
      "text/plain": [
       "array([[ True,  True,  True,  True,  True],\n",
       "       [ True,  True,  True,  True,  True],\n",
       "       [ True,  True,  True,  True,  True],\n",
       "       [ True,  True,  True,  True,  True]])"
      ]
     },
     "execution_count": 22,
     "metadata": {},
     "output_type": "execute_result"
    }
   ],
   "source": [
    "import numpy as np\n",
    "\n",
    "# Q3:Creating a 4×5 array of all True's\n",
    "array = np.full((4, 5), True, dtype=bool)\n",
    "array"
   ]
  },
  {
   "cell_type": "code",
   "execution_count": 24,
   "id": "1131a509-82ae-472e-8379-149d6a358aa7",
   "metadata": {},
   "outputs": [
    {
     "data": {
      "text/plain": [
       "array([-1, 13, -1, 19, -1, 25, -1, 31, -1, 37, -1, 43, -1, 49])"
      ]
     },
     "execution_count": 24,
     "metadata": {},
     "output_type": "execute_result"
    }
   ],
   "source": [
    "# Q4: Create an array of integers from 10 to 50 with with step of 3. Save the array in a. Replace all even numbers in a with -1.\n",
    "a = np.arange(10, 51, 3)\n",
    "a[a % 2 == 0] = -1\n",
    "a"
   ]
  },
  {
   "cell_type": "code",
   "execution_count": 26,
   "id": "103586f8-d2d3-4699-9327-9d3d4b18181d",
   "metadata": {},
   "outputs": [
    {
     "data": {
      "text/plain": [
       "array([ 1,  3,  5,  7,  9, 11, 13, 15, 17, 19])"
      ]
     },
     "execution_count": 26,
     "metadata": {},
     "output_type": "execute_result"
    }
   ],
   "source": [
    "# Q5: Create an one-dimensional array which includes odd numbers from 1 to 20.\n",
    "odd_numbers = np.arange(1, 21, 2)\n",
    "odd_numbers"
   ]
  },
  {
   "cell_type": "code",
   "execution_count": 28,
   "id": "5b51bdc0-5967-4561-8477-0f85d6b4674f",
   "metadata": {},
   "outputs": [
    {
     "data": {
      "text/plain": [
       "array([ 1,  0,  5,  7,  0, 11, 13,  0, 17, 19])"
      ]
     },
     "execution_count": 28,
     "metadata": {},
     "output_type": "execute_result"
    }
   ],
   "source": [
    "# a: Change all numbers divisible by 3 into 0.\n",
    "odd_numbers[odd_numbers % 3 == 0] = 0\n",
    "odd_numbers"
   ]
  },
  {
   "cell_type": "code",
   "execution_count": 32,
   "id": "9d463f17-622d-4307-9a83-2a6875cd2f0e",
   "metadata": {},
   "outputs": [
    {
     "data": {
      "text/plain": [
       "array([[ 1,  0,  5,  7,  0],\n",
       "       [11, 13,  0, 17, 19]])"
      ]
     },
     "execution_count": 32,
     "metadata": {},
     "output_type": "execute_result"
    }
   ],
   "source": [
    "# b: Change the array into a 2x5 matrix.\n",
    "matrix = odd_numbers.reshape(2, 5)\n",
    "matrix"
   ]
  },
  {
   "cell_type": "code",
   "execution_count": 34,
   "id": "dc39faae-b9a0-46c1-8960-4ebf000a6ba4",
   "metadata": {},
   "outputs": [
    {
     "data": {
      "text/plain": [
       "array([[ 1,  0,  0,  7,  0],\n",
       "       [11, 13,  0, 17, 19]])"
      ]
     },
     "execution_count": 34,
     "metadata": {},
     "output_type": "execute_result"
    }
   ],
   "source": [
    "# c: Convert all numbers of the third column into zero. Q6:\n",
    "matrix[:, 2] = 0\n",
    "matrix"
   ]
  },
  {
   "cell_type": "code",
   "execution_count": 36,
   "id": "fd7c4439-bbbe-41a4-96ab-362c892207be",
   "metadata": {},
   "outputs": [
    {
     "data": {
      "text/plain": [
       "array([1.5   , 1.6875, 1.875 , 2.0625, 2.25  , 2.4375, 2.625 , 2.8125,\n",
       "       3.    ])"
      ]
     },
     "execution_count": 36,
     "metadata": {},
     "output_type": "execute_result"
    }
   ],
   "source": [
    "# a: Create an one-dimensional array, b1, which includes 9 numbers evenly spaced over 1.5 to 3.\n",
    "b1 = np.linspace(1.5, 3, 9)\n",
    "b1"
   ]
  },
  {
   "cell_type": "code",
   "execution_count": 38,
   "id": "ceed2430-88cd-4b8a-a5d2-ae17333f2469",
   "metadata": {},
   "outputs": [
    {
     "data": {
      "text/plain": [
       "array([[1.35357637, 0.10676823, 2.07453023],\n",
       "       [0.76551108, 0.45955845, 1.66537221],\n",
       "       [1.64469131, 0.52260737, 1.01177228]])"
      ]
     },
     "execution_count": 38,
     "metadata": {},
     "output_type": "execute_result"
    }
   ],
   "source": [
    "# b: Create a 3x3 matrix, b2, which includes random numbers from Gaussian distribution with mean = 1, and sd = 0.75, seed = 1234.\n",
    "np.random.seed(1234)\n",
    "mean = 1\n",
    "std_dev = 0.75\n",
    "b2 = np.random.normal(loc=mean, scale=std_dev, size=(3, 3))\n",
    "b2"
   ]
  },
  {
   "cell_type": "code",
   "execution_count": 40,
   "id": "02f461b8-934d-4ca2-add2-d1119f26d853",
   "metadata": {},
   "outputs": [
    {
     "data": {
      "text/plain": [
       "-1.0770051050177027"
      ]
     },
     "execution_count": 40,
     "metadata": {},
     "output_type": "execute_result"
    }
   ],
   "source": [
    "# c: Calculate the determinant of b2.\n",
    "det_b2 = np.linalg.det(b2)\n",
    "det_b2"
   ]
  },
  {
   "cell_type": "code",
   "execution_count": 42,
   "id": "0f80eae9-f8c7-4aca-adfa-5128a9c87b4b",
   "metadata": {},
   "outputs": [
    {
     "data": {
      "text/plain": [
       "array([[1.35357637, 0.76551108, 1.64469131],\n",
       "       [0.10676823, 0.45955845, 0.52260737],\n",
       "       [2.07453023, 1.66537221, 1.01177228]])"
      ]
     },
     "execution_count": 42,
     "metadata": {},
     "output_type": "execute_result"
    }
   ],
   "source": [
    "# d: What is the transpose of matrix b2?\n",
    "transpose_b2 = b2.T\n",
    "transpose_b2"
   ]
  },
  {
   "cell_type": "code",
   "execution_count": 44,
   "id": "0bbcc43c-a15d-4e1c-bf1e-64ed20a57410",
   "metadata": {},
   "outputs": [
    {
     "data": {
      "text/plain": [
       "array([[1.5   , 1.6875, 1.875 ],\n",
       "       [2.0625, 2.25  , 2.4375],\n",
       "       [2.625 , 2.8125, 3.    ]])"
      ]
     },
     "execution_count": 44,
     "metadata": {},
     "output_type": "execute_result"
    }
   ],
   "source": [
    "# e: Convert b1 into a 3x3 matrix.\n",
    "b1_reshaped = b1.reshape(3, 3)\n",
    "b1_reshaped"
   ]
  },
  {
   "cell_type": "code",
   "execution_count": 46,
   "id": "6c4d8751-25af-422f-b204-cc087fab4331",
   "metadata": {},
   "outputs": [
    {
     "data": {
      "text/plain": [
       "array([[2.85357637, 1.79426823, 3.94953023],\n",
       "       [2.82801108, 2.70955845, 4.10287221],\n",
       "       [4.26969131, 3.33510737, 4.01177228]])"
      ]
     },
     "execution_count": 46,
     "metadata": {},
     "output_type": "execute_result"
    }
   ],
   "source": [
    "# f: Calculate summation of b1 and b2.\n",
    "summation_b1_b2 = b1_reshaped + b2\n",
    "summation_b1_b2"
   ]
  },
  {
   "cell_type": "code",
   "execution_count": 48,
   "id": "927a2a82-e42f-4f31-b2df-6b9085a390ae",
   "metadata": {},
   "outputs": [
    {
     "data": {
      "text/plain": [
       "array([[ 6.40596071,  1.91554605,  7.81918396],\n",
       "       [ 8.52308626,  2.52807145, 10.49200098],\n",
       "       [10.64021182,  3.14059686, 13.16481801]])"
      ]
     },
     "execution_count": 48,
     "metadata": {},
     "output_type": "execute_result"
    }
   ],
   "source": [
    "# g: Calculate matrix multiplication of b1 and b2.\n",
    "matrix_multiplication = np.dot(b1_reshaped, b2)\n",
    "matrix_multiplication"
   ]
  },
  {
   "cell_type": "code",
   "execution_count": 50,
   "id": "016977a5-0265-498e-b988-70ac5f0326fc",
   "metadata": {},
   "outputs": [
    {
     "data": {
      "text/plain": [
       "array([1.35357637, 2.07453023, 1.66537221, 1.64469131])"
      ]
     },
     "execution_count": 50,
     "metadata": {},
     "output_type": "execute_result"
    }
   ],
   "source": [
    "# h: Call all numbers of b2 which are greater than mean of b2.\n",
    "mean_b2 = np.mean(b2)\n",
    "greater_than_mean = b2[b2 > mean_b2]\n",
    "greater_than_mean"
   ]
  },
  {
   "cell_type": "code",
   "execution_count": null,
   "id": "4a82362d-4ed0-48d8-ab0a-bef08a9bf0a5",
   "metadata": {},
   "outputs": [],
   "source": [
    "# i: Scale matrix b2 using min-max scaling method. End of Code\n",
    "min_b2 = np.min(b2)\n",
    "max_b2 = np.max(b2)\n",
    "scaled_b2 = (b2 - min_b2) / (max_b2 - min_b2)\n",
    "scaled_b2"
   ]
  }
 ],
 "metadata": {
  "kernelspec": {
   "display_name": "Python [conda env:base] *",
   "language": "python",
   "name": "conda-base-py"
  },
  "language_info": {
   "codemirror_mode": {
    "name": "ipython",
    "version": 3
   },
   "file_extension": ".py",
   "mimetype": "text/x-python",
   "name": "python",
   "nbconvert_exporter": "python",
   "pygments_lexer": "ipython3",
   "version": "3.12.7"
  }
 },
 "nbformat": 4,
 "nbformat_minor": 5
}
